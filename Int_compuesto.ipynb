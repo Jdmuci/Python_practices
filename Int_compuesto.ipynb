{
 "cells": [
  {
   "cell_type": "markdown",
   "metadata": {},
   "source": [
    "### Interés compuesto (Compound Interest Formula)"
   ]
  },
  {
   "cell_type": "code",
   "execution_count": 6,
   "metadata": {},
   "outputs": [],
   "source": [
    "import pandas as pd\n",
    "import numpy as np\n",
    "import matplotlib.pyplot as plt"
   ]
  },
  {
   "cell_type": "code",
   "execution_count": 5,
   "metadata": {},
   "outputs": [
    {
     "name": "stdout",
     "output_type": "stream",
     "text": [
      "Valor Final: $ 1,225.0430\n"
     ]
    }
   ],
   "source": [
    "##############################################\n",
    "#Directo\n",
    "def int_comp1(capital1, tasa1, per1):\n",
    "    return capital1 * (1 + tasa1)**per1\n",
    "\n",
    "capital1 = 1000\n",
    "tasa1 = .07\n",
    "per1 = 3\n",
    "\n",
    "monto = int_comp1(capital1, tasa1, per1)\n",
    "print(f\"Valor Final: ${monto:>11,.4f}\")\n",
    "##############################################"
   ]
  },
  {
   "cell_type": "markdown",
   "metadata": {},
   "source": [
    "2nd Example:"
   ]
  },
  {
   "cell_type": "code",
   "execution_count": 32,
   "metadata": {},
   "outputs": [],
   "source": [
    "#Función interés compuesto: capital, tasa, periodos\n",
    "\n",
    "def int_comp(capital, tasa, periodos):\n",
    "    monto = capital * (1 + tasa/periodos)**periodos\n"
   ]
  },
  {
   "cell_type": "code",
   "execution_count": 33,
   "metadata": {},
   "outputs": [
    {
     "name": "stdout",
     "output_type": "stream",
     "text": [
      "   Iteraciones\n",
      "0         None\n",
      "1         None\n",
      "2         None\n",
      "3         None\n",
      "4         None\n",
      "..         ...\n",
      "94        None\n",
      "95        None\n",
      "96        None\n",
      "97        None\n",
      "98        None\n",
      "\n",
      "[99 rows x 1 columns]\n"
     ]
    }
   ],
   "source": [
    "#Crear lista donde guarde iteraciones\n",
    "\n",
    "n = 100\n",
    "lista = []\n",
    "\n",
    "for x in range(1, n):\n",
    "    iteracion = int_comp(1,1,x)\n",
    "    lista.append(iteracion)\n",
    "\n",
    "#Acomodar las iteraciones en un DF\n",
    "tabla = pd.DataFrame()\n",
    "tabla[\"Iteraciones\"] = lista\n",
    "print(tabla)"
   ]
  },
  {
   "cell_type": "code",
   "execution_count": 34,
   "metadata": {},
   "outputs": [
    {
     "data": {
      "image/png": "[encoded data removed]",
      "text/plain": [
       "<Figure size 720x432 with 1 Axes>"
      ]
     },
     "metadata": {
      "needs_background": "light"
     },
     "output_type": "display_data"
    }
   ],
   "source": [
    "#Gráfica\n",
    "plt.figure(figsize = (10,6))\n",
    "plt.title(\"Aproximación de Euler (E)\")\n",
    "plt.xlabel(\"Tiempo en años\")\n",
    "plt.axhline(y = np.exp(1), color = \"r\", linestyle = \"--\", linewidth = 2)\n",
    "plt.plot(tabla)\n",
    "plt.show()"
   ]
  },
  {
   "cell_type": "code",
   "execution_count": null,
   "metadata": {},
   "outputs": [],
   "source": []
  }
 ],
 "metadata": {
  "kernelspec": {
   "display_name": "Python 3.10.6 64-bit",
   "language": "python",
   "name": "python3"
  },
  "language_info": {
   "codemirror_mode": {
    "name": "ipython",
    "version": 3
   },
   "file_extension": ".py",
   "mimetype": "text/x-python",
   "name": "python",
   "nbconvert_exporter": "python",
   "pygments_lexer": "ipython3",
   "version": "3.10.6"
  },
  "orig_nbformat": 4,
  "vscode": {
   "interpreter": {
    "hash": "aee8b7b246df8f9039afb4144a1f6fd8d2ca17a180786b69acc140d282b71a49"
   }
  }
 },
 "nbformat": 4,
 "nbformat_minor": 2
}
