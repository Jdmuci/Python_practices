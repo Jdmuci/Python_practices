{
  "cells": [
    {
      "cell_type": "markdown",
      "metadata": {
        "id": "TKv7ppBHyUS-"
      },
      "source": [
        "## VaR Historical Method, Example\n",
        "\n",
        "We will use yfinance library to download historical stock price data and then calculate VaR.\n",
        "\n",
        "In this practice exercise we consider an equally weighted portfolio (it can be changed)."
      ]
    },
    {
      "cell_type": "code",
      "execution_count": 3,
      "metadata": {
        "id": "hJvLBsjUyUTB"
      },
      "outputs": [],
      "source": [
        "import numpy as np\n",
        "import pandas as pd\n",
        "import datetime as dt\n",
        "import yfinance as yf\n",
        "import matplotlib.pyplot as plt\n",
        "from scipy.stats import norm"
      ]
    },
    {
      "cell_type": "markdown",
      "metadata": {
        "id": "W2gFR21hyUTC"
      },
      "source": [
        "1 -  Set time range.\n",
        " - This is optional, we can set a specific time range here or in the data download code."
      ]
    },
    {
      "cell_type": "code",
      "execution_count": 18,
      "metadata": {
        "id": "JXjTb12PyUTE"
      },
      "outputs": [],
      "source": [
        "years = 3\n",
        "\n",
        "endDate = dt.datetime.now()\n",
        "startDate = endDate - dt.timedelta(days=365*years)\n"
      ]
    },
    {
      "cell_type": "markdown",
      "metadata": {
        "id": "YrsQ2C0uq3L-"
      },
      "source": [
        "2 - Set the Weights (equally weighted portfolio). And the Portfolio Value ($1,000,000)"
      ]
    },
    {
      "cell_type": "code",
      "execution_count": 19,
      "metadata": {
        "colab": {
          "base_uri": "https://localhost:8080/"
        },
        "id": "9HFKzasQq5Dk",
        "outputId": "bd81cb32-363d-45a6-c2a3-ae78d7233d06"
      },
      "outputs": [
        {
          "name": "stdout",
          "output_type": "stream",
          "text": [
            "[0.2 0.2 0.2 0.2 0.2]\n"
          ]
        }
      ],
      "source": [
        "portfolio_value = 1000000\n",
        "\n",
        "# Code for a non-equally weighted portfolio: weights = np.array([0.25, 0.25, 0.2, 0.15, 0.15 ])\n",
        "weights = np.array([1/len(tickers)]*len(tickers))\n",
        "print(weights)"
      ]
    },
    {
      "cell_type": "markdown",
      "metadata": {
        "id": "WlpBvXdpyUTF"
      },
      "source": [
        "3 - Create a list of tickers"
      ]
    },
    {
      "cell_type": "code",
      "execution_count": 1,
      "metadata": {
        "id": "cgdWjQKCyUTH"
      },
      "outputs": [],
      "source": [
        "tickers = [\"AAPL\", \"NVDA\", \"GOOG\", \"TSLA\", \"AMZN\"]"
      ]
    },
    {
      "cell_type": "markdown",
      "metadata": {
        "id": "v62uTtjqyUTJ"
      },
      "source": [
        "4 - Download daily adjusted close price for the tickers\n",
        "\n",
        "- We use AdjClosePrices instead of ClosePrice due to the dividend and split adjustments."
      ]
    },
    {
      "cell_type": "code",
      "execution_count": 20,
      "metadata": {
        "colab": {
          "base_uri": "https://localhost:8080/",
          "height": 256
        },
        "id": "kL52TyaQyUTK",
        "outputId": "41ae5216-46d5-4995-8d76-ff87155f3061"
      },
      "outputs": [
        {
          "name": "stderr",
          "output_type": "stream",
          "text": [
            "[*********************100%%**********************]  5 of 5 completed\n"
          ]
        },
        {
          "data": {
            "text/html": [
              "\n",
              "  <div id=\"df-83f50e1a-aad3-4c16-8a84-00f6e27d8f3f\" class=\"colab-df-container\">\n",
              "    <div>\n",
              "<style scoped>\n",
              "    .dataframe tbody tr th:only-of-type {\n",
              "        vertical-align: middle;\n",
              "    }\n",
              "\n",
              "    .dataframe tbody tr th {\n",
              "        vertical-align: top;\n",
              "    }\n",
              "\n",
              "    .dataframe thead th {\n",
              "        text-align: right;\n",
              "    }\n",
              "</style>\n",
              "<table border=\"1\" class=\"dataframe\">\n",
              "  <thead>\n",
              "    <tr style=\"text-align: right;\">\n",
              "      <th></th>\n",
              "      <th>AAPL</th>\n",
              "      <th>AMZN</th>\n",
              "      <th>GOOG</th>\n",
              "      <th>NVDA</th>\n",
              "      <th>TSLA</th>\n",
              "    </tr>\n",
              "    <tr>\n",
              "      <th>Date</th>\n",
              "      <th></th>\n",
              "      <th></th>\n",
              "      <th></th>\n",
              "      <th></th>\n",
              "      <th></th>\n",
              "    </tr>\n",
              "  </thead>\n",
              "  <tbody>\n",
              "    <tr>\n",
              "      <th>2021-01-20</th>\n",
              "      <td>129.738693</td>\n",
              "      <td>163.169006</td>\n",
              "      <td>94.345001</td>\n",
              "      <td>133.356949</td>\n",
              "      <td>283.483337</td>\n",
              "    </tr>\n",
              "    <tr>\n",
              "      <th>2021-01-21</th>\n",
              "      <td>134.494705</td>\n",
              "      <td>165.349503</td>\n",
              "      <td>94.562500</td>\n",
              "      <td>138.363159</td>\n",
              "      <td>281.663330</td>\n",
              "    </tr>\n",
              "    <tr>\n",
              "      <th>2021-01-22</th>\n",
              "      <td>136.656525</td>\n",
              "      <td>164.611496</td>\n",
              "      <td>95.052498</td>\n",
              "      <td>136.816635</td>\n",
              "      <td>282.213318</td>\n",
              "    </tr>\n",
              "    <tr>\n",
              "      <th>2021-01-25</th>\n",
              "      <td>140.439697</td>\n",
              "      <td>164.699997</td>\n",
              "      <td>94.970001</td>\n",
              "      <td>136.225479</td>\n",
              "      <td>293.600006</td>\n",
              "    </tr>\n",
              "    <tr>\n",
              "      <th>2021-01-26</th>\n",
              "      <td>140.675537</td>\n",
              "      <td>166.306503</td>\n",
              "      <td>95.862000</td>\n",
              "      <td>134.050369</td>\n",
              "      <td>294.363342</td>\n",
              "    </tr>\n",
              "  </tbody>\n",
              "</table>\n",
              "</div>\n",
              "    <div class=\"colab-df-buttons\">\n",
              "\n",
              "  <div class=\"colab-df-container\">\n",
              "    <button class=\"colab-df-convert\" onclick=\"convertToInteractive('df-83f50e1a-aad3-4c16-8a84-00f6e27d8f3f')\"\n",
              "            title=\"Convert this dataframe to an interactive table.\"\n",
              "            style=\"display:none;\">\n",
              "\n",
              "  <svg xmlns=\"http://www.w3.org/2000/svg\" height=\"24px\" viewBox=\"0 -960 960 960\">\n",
              "    <path d=\"M120-120v-720h720v720H120Zm60-500h600v-160H180v160Zm220 220h160v-160H400v160Zm0 220h160v-160H400v160ZM180-400h160v-160H180v160Zm440 0h160v-160H620v160ZM180-180h160v-160H180v160Zm440 0h160v-160H620v160Z\"/>\n",
              "  </svg>\n",
              "    </button>\n",
              "\n",
              "  <style>\n",
              "    .colab-df-container {\n",
              "      display:flex;\n",
              "      gap: 12px;\n",
              "    }\n",
              "\n",
              "    .colab-df-convert {\n",
              "      background-color: #E8F0FE;\n",
              "      border: none;\n",
              "      border-radius: 50%;\n",
              "      cursor: pointer;\n",
              "      display: none;\n",
              "      fill: #1967D2;\n",
              "      height: 32px;\n",
              "      padding: 0 0 0 0;\n",
              "      width: 32px;\n",
              "    }\n",
              "\n",
              "    .colab-df-convert:hover {\n",
              "      background-color: #E2EBFA;\n",
              "      box-shadow: 0px 1px 2px rgba(60, 64, 67, 0.3), 0px 1px 3px 1px rgba(60, 64, 67, 0.15);\n",
              "      fill: #174EA6;\n",
              "    }\n",
              "\n",
              "    .colab-df-buttons div {\n",
              "      margin-bottom: 4px;\n",
              "    }\n",
              "\n",
              "    [theme=dark] .colab-df-convert {\n",
              "      background-color: #3B4455;\n",
              "      fill: #D2E3FC;\n",
              "    }\n",
              "\n",
              "    [theme=dark] .colab-df-convert:hover {\n",
              "      background-color: #434B5C;\n",
              "      box-shadow: 0px 1px 3px 1px rgba(0, 0, 0, 0.15);\n",
              "      filter: drop-shadow(0px 1px 2px rgba(0, 0, 0, 0.3));\n",
              "      fill: #FFFFFF;\n",
              "    }\n",
              "  </style>\n",
              "\n",
              "    <script>\n",
              "      const buttonEl =\n",
              "        document.querySelector('#df-83f50e1a-aad3-4c16-8a84-00f6e27d8f3f button.colab-df-convert');\n",
              "      buttonEl.style.display =\n",
              "        google.colab.kernel.accessAllowed ? 'block' : 'none';\n",
              "\n",
              "      async function convertToInteractive(key) {\n",
              "        const element = document.querySelector('#df-83f50e1a-aad3-4c16-8a84-00f6e27d8f3f');\n",
              "        const dataTable =\n",
              "          await google.colab.kernel.invokeFunction('convertToInteractive',\n",
              "                                                    [key], {});\n",
              "        if (!dataTable) return;\n",
              "\n",
              "        const docLinkHtml = 'Like what you see? Visit the ' +\n",
              "          '<a target=\"_blank\" href=https://colab.research.google.com/notebooks/data_table.ipynb>data table notebook</a>'\n",
              "          + ' to learn more about interactive tables.';\n",
              "        element.innerHTML = '';\n",
              "        dataTable['output_type'] = 'display_data';\n",
              "        await google.colab.output.renderOutput(dataTable, element);\n",
              "        const docLink = document.createElement('div');\n",
              "        docLink.innerHTML = docLinkHtml;\n",
              "        element.appendChild(docLink);\n",
              "      }\n",
              "    </script>\n",
              "  </div>\n",
              "\n",
              "\n",
              "<div id=\"df-46ffcc59-d313-4fc8-88aa-b4e492b28650\">\n",
              "  <button class=\"colab-df-quickchart\" onclick=\"quickchart('df-46ffcc59-d313-4fc8-88aa-b4e492b28650')\"\n",
              "            title=\"Suggest charts\"\n",
              "            style=\"display:none;\">\n",
              "\n",
              "<svg xmlns=\"http://www.w3.org/2000/svg\" height=\"24px\"viewBox=\"0 0 24 24\"\n",
              "     width=\"24px\">\n",
              "    <g>\n",
              "        <path d=\"M19 3H5c-1.1 0-2 .9-2 2v14c0 1.1.9 2 2 2h14c1.1 0 2-.9 2-2V5c0-1.1-.9-2-2-2zM9 17H7v-7h2v7zm4 0h-2V7h2v10zm4 0h-2v-4h2v4z\"/>\n",
              "    </g>\n",
              "</svg>\n",
              "  </button>\n",
              "\n",
              "<style>\n",
              "  .colab-df-quickchart {\n",
              "      --bg-color: #E8F0FE;\n",
              "      --fill-color: #1967D2;\n",
              "      --hover-bg-color: #E2EBFA;\n",
              "      --hover-fill-color: #174EA6;\n",
              "      --disabled-fill-color: #AAA;\n",
              "      --disabled-bg-color: #DDD;\n",
              "  }\n",
              "\n",
              "  [theme=dark] .colab-df-quickchart {\n",
              "      --bg-color: #3B4455;\n",
              "      --fill-color: #D2E3FC;\n",
              "      --hover-bg-color: #434B5C;\n",
              "      --hover-fill-color: #FFFFFF;\n",
              "      --disabled-bg-color: #3B4455;\n",
              "      --disabled-fill-color: #666;\n",
              "  }\n",
              "\n",
              "  .colab-df-quickchart {\n",
              "    background-color: var(--bg-color);\n",
              "    border: none;\n",
              "    border-radius: 50%;\n",
              "    cursor: pointer;\n",
              "    display: none;\n",
              "    fill: var(--fill-color);\n",
              "    height: 32px;\n",
              "    padding: 0;\n",
              "    width: 32px;\n",
              "  }\n",
              "\n",
              "  .colab-df-quickchart:hover {\n",
              "    background-color: var(--hover-bg-color);\n",
              "    box-shadow: 0 1px 2px rgba(60, 64, 67, 0.3), 0 1px 3px 1px rgba(60, 64, 67, 0.15);\n",
              "    fill: var(--button-hover-fill-color);\n",
              "  }\n",
              "\n",
              "  .colab-df-quickchart-complete:disabled,\n",
              "  .colab-df-quickchart-complete:disabled:hover {\n",
              "    background-color: var(--disabled-bg-color);\n",
              "    fill: var(--disabled-fill-color);\n",
              "    box-shadow: none;\n",
              "  }\n",
              "\n",
              "  .colab-df-spinner {\n",
              "    border: 2px solid var(--fill-color);\n",
              "    border-color: transparent;\n",
              "    border-bottom-color: var(--fill-color);\n",
              "    animation:\n",
              "      spin 1s steps(1) infinite;\n",
              "  }\n",
              "\n",
              "  @keyframes spin {\n",
              "    0% {\n",
              "      border-color: transparent;\n",
              "      border-bottom-color: var(--fill-color);\n",
              "      border-left-color: var(--fill-color);\n",
              "    }\n",
              "    20% {\n",
              "      border-color: transparent;\n",
              "      border-left-color: var(--fill-color);\n",
              "      border-top-color: var(--fill-color);\n",
              "    }\n",
              "    30% {\n",
              "      border-color: transparent;\n",
              "      border-left-color: var(--fill-color);\n",
              "      border-top-color: var(--fill-color);\n",
              "      border-right-color: var(--fill-color);\n",
              "    }\n",
              "    40% {\n",
              "      border-color: transparent;\n",
              "      border-right-color: var(--fill-color);\n",
              "      border-top-color: var(--fill-color);\n",
              "    }\n",
              "    60% {\n",
              "      border-color: transparent;\n",
              "      border-right-color: var(--fill-color);\n",
              "    }\n",
              "    80% {\n",
              "      border-color: transparent;\n",
              "      border-right-color: var(--fill-color);\n",
              "      border-bottom-color: var(--fill-color);\n",
              "    }\n",
              "    90% {\n",
              "      border-color: transparent;\n",
              "      border-bottom-color: var(--fill-color);\n",
              "    }\n",
              "  }\n",
              "</style>\n",
              "\n",
              "  <script>\n",
              "    async function quickchart(key) {\n",
              "      const quickchartButtonEl =\n",
              "        document.querySelector('#' + key + ' button');\n",
              "      quickchartButtonEl.disabled = true;  // To prevent multiple clicks.\n",
              "      quickchartButtonEl.classList.add('colab-df-spinner');\n",
              "      try {\n",
              "        const charts = await google.colab.kernel.invokeFunction(\n",
              "            'suggestCharts', [key], {});\n",
              "      } catch (error) {\n",
              "        console.error('Error during call to suggestCharts:', error);\n",
              "      }\n",
              "      quickchartButtonEl.classList.remove('colab-df-spinner');\n",
              "      quickchartButtonEl.classList.add('colab-df-quickchart-complete');\n",
              "    }\n",
              "    (() => {\n",
              "      let quickchartButtonEl =\n",
              "        document.querySelector('#df-46ffcc59-d313-4fc8-88aa-b4e492b28650 button');\n",
              "      quickchartButtonEl.style.display =\n",
              "        google.colab.kernel.accessAllowed ? 'block' : 'none';\n",
              "    })();\n",
              "  </script>\n",
              "</div>\n",
              "\n",
              "    </div>\n",
              "  </div>\n"
            ],
            "text/plain": [
              "                  AAPL        AMZN       GOOG        NVDA        TSLA\n",
              "Date                                                                 \n",
              "2021-01-20  129.738693  163.169006  94.345001  133.356949  283.483337\n",
              "2021-01-21  134.494705  165.349503  94.562500  138.363159  281.663330\n",
              "2021-01-22  136.656525  164.611496  95.052498  136.816635  282.213318\n",
              "2021-01-25  140.439697  164.699997  94.970001  136.225479  293.600006\n",
              "2021-01-26  140.675537  166.306503  95.862000  134.050369  294.363342"
            ]
          },
          "execution_count": 20,
          "metadata": {},
          "output_type": "execute_result"
        }
      ],
      "source": [
        "#Method 1\n",
        "#adj_close_df = pd.DataFrame()\n",
        "#for ticker in tickers:\n",
        "#    data = yf.download(ticker, start=startDate, end=endDate)\n",
        "#    adj_close_df[ticker] = data['Adj Close']\n",
        "#print(adj_close_df)\n",
        "\n",
        "#Method 2 (less code, same result)\n",
        "#close_df = yf.download(tickers, start=\"2020-11-01\", end=\"2023-11-05\")[\"Close\"]   #We can set a specific time range here\n",
        "adj_close_df = yf.download(tickers, start=startDate, end=endDate)[\"Adj Close\"]\n",
        "adj_close_df.head()"
      ]
    },
    {
      "cell_type": "markdown",
      "metadata": {
        "id": "2UssByeoyUTL"
      },
      "source": [
        "5 - Calculate the daily log returns and drop any N/A value"
      ]
    },
    {
      "cell_type": "code",
      "execution_count": 21,
      "metadata": {
        "colab": {
          "base_uri": "https://localhost:8080/"
        },
        "id": "9xMS5LrEyUTM",
        "outputId": "e1ed90a3-7e0c-4c84-91fc-2c7579938727"
      },
      "outputs": [
        {
          "name": "stdout",
          "output_type": "stream",
          "text": [
            "                AAPL      AMZN      GOOG      NVDA      TSLA\n",
            "Date                                                        \n",
            "2021-01-21  0.036002  0.013275  0.002303  0.036852 -0.006441\n",
            "2021-01-22  0.015946 -0.004473  0.005168 -0.011240  0.001951\n",
            "2021-01-25  0.027308  0.000537 -0.000868 -0.004330  0.039555\n",
            "2021-01-26  0.001678  0.009707  0.009349 -0.016096  0.002597\n",
            "2021-01-27 -0.007714 -0.028529 -0.046139 -0.039279 -0.021669\n",
            "...              ...       ...       ...       ...       ...\n",
            "2024-01-12  0.001777 -0.003615  0.003960 -0.002045 -0.037349\n",
            "2024-01-16 -0.012394 -0.009487 -0.001110  0.030104  0.004649\n",
            "2024-01-17 -0.005187 -0.009512 -0.008294 -0.005852 -0.020025\n",
            "2024-01-18  0.032052  0.011730  0.014590  0.018629 -0.017173\n",
            "2024-01-19  0.015414  0.011916  0.020345  0.040898  0.001462\n",
            "\n",
            "[754 rows x 5 columns]\n"
          ]
        }
      ],
      "source": [
        "log_returns = np.log(adj_close_df / adj_close_df.shift(1))\n",
        "log_returns = log_returns.dropna()\n",
        "print(log_returns)"
      ]
    },
    {
      "cell_type": "markdown",
      "metadata": {
        "id": "Bg2eJ0O8yUTO"
      },
      "source": [
        "6 - Calculating Historical Portfolio Returns\n",
        "\n",
        "- Sum(Returns * weight)  of every stock"
      ]
    },
    {
      "cell_type": "code",
      "execution_count": 8,
      "metadata": {
        "colab": {
          "base_uri": "https://localhost:8080/"
        },
        "id": "rgTcwcfHyUTO",
        "outputId": "ba8f6170-1559-4555-d544-088950bf0b75"
      },
      "outputs": [
        {
          "name": "stdout",
          "output_type": "stream",
          "text": [
            "Date\n",
            "2021-01-21    0.016398\n",
            "2021-01-22    0.001470\n",
            "2021-01-25    0.012440\n",
            "2021-01-26    0.001447\n",
            "2021-01-27   -0.028666\n",
            "                ...   \n",
            "2024-01-12   -0.007455\n",
            "2024-01-16    0.002352\n",
            "2024-01-17   -0.009774\n",
            "2024-01-18    0.011965\n",
            "2024-01-19    0.018007\n",
            "Length: 754, dtype: float64\n"
          ]
        }
      ],
      "source": [
        "historical_returns = (log_returns * weights).sum(axis =1)\n",
        "print(historical_returns)"
      ]
    },
    {
      "cell_type": "markdown",
      "metadata": {
        "id": "zWQqxXV4yUTP"
      },
      "source": [
        "7 - Finding N-Day Historical Returns"
      ]
    },
    {
      "cell_type": "code",
      "execution_count": 9,
      "metadata": {
        "colab": {
          "base_uri": "https://localhost:8080/"
        },
        "id": "YVEQ5e7EyUTP",
        "outputId": "cfc40025-9e2f-48a5-d23d-4acb93a42815"
      },
      "outputs": [
        {
          "name": "stdout",
          "output_type": "stream",
          "text": [
            "Date\n",
            "2021-04-01   -0.038823\n",
            "2021-04-05   -0.027201\n",
            "2021-04-06   -0.030077\n",
            "2021-04-07   -0.036244\n",
            "2021-04-08   -0.025047\n",
            "                ...   \n",
            "2024-01-12    0.151406\n",
            "2024-01-16    0.128483\n",
            "2024-01-17    0.093854\n",
            "2024-01-18    0.095229\n",
            "2024-01-19    0.104388\n",
            "Length: 705, dtype: float64\n"
          ]
        }
      ],
      "source": [
        "days = 50\n",
        "\n",
        "range_returns = historical_returns.rolling(window = days).sum()\n",
        "range_returns = range_returns.dropna()\n",
        "print(range_returns)"
      ]
    },
    {
      "cell_type": "markdown",
      "metadata": {
        "id": "FE-ty54EyUTQ"
      },
      "source": [
        "### Calculating VaR Using the Historical Method\n",
        "\n",
        "Set the confidence level (99%) and calculate the Value at Risk (VaR)\n",
        "\n",
        "- Rememeber the higher we set our confidence interval & days; the greater our VaR is"
      ]
    },
    {
      "cell_type": "code",
      "execution_count": 14,
      "metadata": {
        "colab": {
          "base_uri": "https://localhost:8080/"
        },
        "id": "xZp3QLWsyUTQ",
        "outputId": "1444468c-c90c-4a85-8256-057a2a028f74"
      },
      "outputs": [
        {
          "name": "stdout",
          "output_type": "stream",
          "text": [
            "322752.2906910208\n",
            "----------------------------------------\n",
            "Confidence Level     Value at Risk       \n",
            "----------------------------------------\n",
            "    99%:             $322,752.290691\n"
          ]
        }
      ],
      "source": [
        "confidence_interval = 0.99\n",
        "\n",
        "VaR = -np.percentile(range_returns, 100 - (confidence_interval * 100))*portfolio_value\n",
        "print(VaR)\n",
        "\n",
        "print('-' * 40)\n",
        "print(f'{\"Confidence Level\":<20} {\"Value at Risk\":<20}')\n",
        "print('-' * 40)\n",
        "print(f'{confidence_interval * 100:>6.0f}%: {\"\":<11} ${VaR:>10,.6f}')"
      ]
    },
    {
      "cell_type": "markdown",
      "metadata": {
        "id": "-cf1YLaSyUTQ"
      },
      "source": [
        "\n",
        "Plotting the Results of the Historical Returns\n",
        "\n",
        "Finally, let’s plot the results of the historical returns to visualize the distribution of portfolio returns and the VaR at the specified confidence level.\n"
      ]
    },
    {
      "cell_type": "code",
      "execution_count": 15,
      "metadata": {
        "colab": {
          "base_uri": "https://localhost:8080/",
          "height": 487
        },
        "id": "S_J9tESCyUTR",
        "outputId": "9a39bfda-177d-49e8-d014-a22bc6c61d2d"
      },
      "outputs": [
        {
          "data": {
            "image/png": "[encoded data removed]",
            "text/plain": [
              "<Figure size 640x480 with 1 Axes>"
            ]
          },
          "metadata": {},
          "output_type": "display_data"
        }
      ],
      "source": [
        "return_window = days\n",
        "range_returns = historical_returns.rolling(window=return_window).sum()\n",
        "range_returns = range_returns.dropna()\n",
        "\n",
        "range_returns_dollar = range_returns * portfolio_value\n",
        "\n",
        "plt.hist(range_returns_dollar.dropna(), bins=50, density=True)\n",
        "plt.xlabel(f'{return_window}-Day Portfolio Return (Dollar Value)')\n",
        "plt.ylabel('Frequency')\n",
        "plt.title(f'Distribution of Portfolio {return_window}-Day Returns (Dollar Value)')\n",
        "plt.axvline(-VaR, color='r', linestyle='dashed', linewidth=2, label=f'VaR at {confidence_interval:.0%} confidence level')\n",
        "plt.legend()\n",
        "plt.show()"
      ]
    }
  ],
  "metadata": {
    "colab": {
      "provenance": []
    },
    "kernelspec": {
      "display_name": "Python 3.10.6 64-bit",
      "language": "python",
      "name": "python3"
    },
    "language_info": {
      "codemirror_mode": {
        "name": "ipython",
        "version": 3
      },
      "file_extension": ".py",
      "mimetype": "text/x-python",
      "name": "python",
      "nbconvert_exporter": "python",
      "pygments_lexer": "ipython3",
      "version": "3.10.6"
    },
    "orig_nbformat": 4,
    "vscode": {
      "interpreter": {
        "hash": "aee8b7b246df8f9039afb4144a1f6fd8d2ca17a180786b69acc140d282b71a49"
      }
    }
  },
  "nbformat": 4,
  "nbformat_minor": 0
}
