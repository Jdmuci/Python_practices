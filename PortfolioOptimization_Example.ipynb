{
  "nbformat": 4,
  "nbformat_minor": 0,
  "metadata": {
    "colab": {
      "provenance": []
    },
    "kernelspec": {
      "name": "python3",
      "display_name": "Python 3"
    },
    "language_info": {
      "name": "python"
    }
  },
  "cells": [
    {
      "cell_type": "markdown",
      "source": [
        "## Portfolio Optimization, Example\n",
        "\n",
        " **Modern Portfolio Theory**"
      ],
      "metadata": {
        "id": "O-GrZbro28eB"
      }
    },
    {
      "cell_type": "markdown",
      "source": [
        "We look for the best posible portfolio: the one that maximizes the benefit with the lowest level of associated risk. We will use the most popular portfolio performance metric: **Sharpe Ratio**\n",
        "\n",
        "***Sharpe Ratio = (Portfolio Return - RiskFree Rate) / Std. Dev.***"
      ],
      "metadata": {
        "id": "5j4ouesI4Y6q"
      }
    },
    {
      "cell_type": "code",
      "source": [
        "# Libraries:\n",
        "import numpy as np\n",
        "import pandas as pd\n",
        "from datetime import datetime, timedelta\n",
        "import yfinance as yf\n",
        "import matplotlib.pyplot as plt\n",
        "from scipy.optimize import minimize"
      ],
      "metadata": {
        "id": "fgJdx0SB3h5x"
      },
      "execution_count": 1,
      "outputs": []
    },
    {
      "cell_type": "markdown",
      "source": [
        "1 - Section 1: Define Tickers and Time Range\n",
        "- Time range is optional, we can set a specific time range here or in the data download code."
      ],
      "metadata": {
        "id": "jh5QW8WcEKdQ"
      }
    },
    {
      "cell_type": "code",
      "source": [
        "tickers = ['AAPL','TSLA','JNJ','BRK-B','XOM']\n",
        "\n",
        "end_date = datetime.today()\n",
        "start_date = end_date - timedelta(days = 3*365)"
      ],
      "metadata": {
        "id": "SkViXN9JENt0"
      },
      "execution_count": 8,
      "outputs": []
    },
    {
      "cell_type": "markdown",
      "source": [
        "2 - Section 2: Download Adjusted Close Prices"
      ],
      "metadata": {
        "id": "UJx-1JsqFGP2"
      }
    },
    {
      "cell_type": "code",
      "source": [
        "# Method 1\n",
        "adj_close_df = pd.DataFrame()\n",
        "for ticker in tickers:\n",
        "    data = yf.download(ticker, start = start_date,end = end_date)\n",
        "    adj_close_df[ticker] = data['Adj Close']\n",
        "print(adj_close_df.head())\n",
        "\n",
        "# Method 2 (less code, same result)\n",
        "#adj_close = yf.download(tickers, start = start_date,end = end_date)[\"Adj Close\"]\n",
        "#print(adj_close.head())"
      ],
      "metadata": {
        "colab": {
          "base_uri": "https://localhost:8080/"
        },
        "id": "Byg0O3jCErUp",
        "outputId": "47d9a51a-4fe3-4167-dc52-c7175f83cf87"
      },
      "execution_count": 9,
      "outputs": [
        {
          "output_type": "stream",
          "name": "stderr",
          "text": [
            "[*********************100%%**********************]  1 of 1 completed\n",
            "[*********************100%%**********************]  1 of 1 completed\n",
            "[*********************100%%**********************]  1 of 1 completed\n",
            "[*********************100%%**********************]  1 of 1 completed\n",
            "[*********************100%%**********************]  1 of 1 completed"
          ]
        },
        {
          "output_type": "stream",
          "name": "stdout",
          "text": [
            "                  AAPL        TSLA         JNJ       BRK-B        XOM\n",
            "Date                                                                 \n",
            "2021-01-21  134.494690  281.663330  149.188477  234.160004  42.154430\n",
            "2021-01-22  136.656525  282.213318  150.867386  232.919998  41.558613\n",
            "2021-01-25  140.439713  293.600006  153.108932  233.009995  41.094219\n",
            "2021-01-26  140.675537  294.363342  157.259979  231.570007  40.191719\n",
            "2021-01-27  139.594604  288.053345  154.861588  227.360001  39.736092\n"
          ]
        },
        {
          "output_type": "stream",
          "name": "stderr",
          "text": [
            "\n"
          ]
        }
      ]
    },
    {
      "cell_type": "markdown",
      "source": [
        "3 - Section 3: Calculate Log Returns"
      ],
      "metadata": {
        "id": "v2dkB6eeHPVJ"
      }
    },
    {
      "cell_type": "code",
      "source": [
        "log_returns = np.log(adj_close_df / adj_close_df.shift(1))\n",
        "log_returns = log_returns.dropna()  #Drop any N/A value\n",
        "print(log_returns)\n"
      ],
      "metadata": {
        "colab": {
          "base_uri": "https://localhost:8080/"
        },
        "id": "t6IDaM2nGWGW",
        "outputId": "c20e4485-e969-47eb-e7a2-765d13fa1571"
      },
      "execution_count": 10,
      "outputs": [
        {
          "output_type": "stream",
          "name": "stdout",
          "text": [
            "                AAPL      TSLA       JNJ     BRK-B       XOM\n",
            "Date                                                        \n",
            "2021-01-22  0.015946  0.001951  0.011191 -0.005310 -0.014235\n",
            "2021-01-25  0.027308  0.039555  0.014748  0.000386 -0.011237\n",
            "2021-01-26  0.001678  0.002597  0.026751 -0.006199 -0.022206\n",
            "2021-01-27 -0.007714 -0.021669 -0.015369 -0.018348 -0.011401\n",
            "2021-01-28 -0.035612 -0.033811  0.007596  0.015667  0.015535\n",
            "...              ...       ...       ...       ...       ...\n",
            "2024-01-12  0.001777 -0.037349  0.007665  0.000770  0.012889\n",
            "2024-01-16 -0.012394  0.004649 -0.011582 -0.006954 -0.022871\n",
            "2024-01-17 -0.005187 -0.020025 -0.000561 -0.005025 -0.007294\n",
            "2024-01-18  0.032052 -0.017173  0.004850  0.008564 -0.001858\n",
            "2024-01-19  0.015414  0.001462  0.002911  0.012641  0.001548\n",
            "\n",
            "[753 rows x 5 columns]\n"
          ]
        }
      ]
    },
    {
      "cell_type": "markdown",
      "source": [
        "\n",
        "4 - Section 4: Calculate Covariance Matrix\n",
        "\n",
        "Compute the covariance matrix using the annualized log returns. We measure risk by comparing covariance of each asset against the rest of them\n"
      ],
      "metadata": {
        "id": "-bEl5z5eJyxx"
      }
    },
    {
      "cell_type": "code",
      "source": [
        "cov_matrix = log_returns.cov() * 252   # For 1 year (252 business days)\n",
        "print(cov_matrix)"
      ],
      "metadata": {
        "colab": {
          "base_uri": "https://localhost:8080/"
        },
        "id": "T_Y284C_JSuy",
        "outputId": "2f7293da-43ef-4886-f540-cad9f678dea8"
      },
      "execution_count": 11,
      "outputs": [
        {
          "output_type": "stream",
          "name": "stdout",
          "text": [
            "           AAPL      TSLA       JNJ     BRK-B       XOM\n",
            "AAPL   0.076203  0.087802  0.010820  0.024523  0.014770\n",
            "TSLA   0.087802  0.340514  0.002741  0.026481  0.013497\n",
            "JNJ    0.010820  0.002741  0.026048  0.012128  0.005374\n",
            "BRK-B  0.024523  0.026481  0.012128  0.031068  0.023120\n",
            "XOM    0.014770  0.013497  0.005374  0.023120  0.088551\n"
          ]
        }
      ]
    },
    {
      "cell_type": "markdown",
      "source": [
        "\n",
        "**5 - Section 5: Define Portfolio Performance Metrics**\n",
        "\n",
        "Define functions to calculate the **Portfolio Standard Deviation, Expected Return, and Sharpe Ratio.**\n"
      ],
      "metadata": {
        "id": "xBPgfYYDLBZM"
      }
    },
    {
      "cell_type": "code",
      "source": [
        "# Standard Deviation (portfolio risk)\n",
        "  # This measures Portfolio variance: represents the combined volatility of the assets in the portfolio\n",
        "def standard_deviation(weights, cov_matrix):\n",
        "    variance = weights.T @ cov_matrix @ weights\n",
        "    return np.sqrt(variance)\n",
        "\n",
        "# Expected Return\n",
        "  # Assumption: expected returns are based on historical returns\n",
        "def expected_return(weights, log_returns):\n",
        "    return np.sum(log_returns.mean()*weights)*252\n",
        "\n",
        "# Sharpe Ratio\n",
        "def sharpe_ratio(weights, log_returns, cov_matrix, risk_free_rate):\n",
        "    return (expected_return(weights, log_returns) - risk_free_rate) / standard_deviation(weights, cov_matrix)"
      ],
      "metadata": {
        "id": "_xVdqvu-KScu"
      },
      "execution_count": 28,
      "outputs": []
    },
    {
      "cell_type": "markdown",
      "source": [
        "\n",
        "**6 - Section 6: Portfolio Optimization**\n",
        "\n",
        "We set the risk-free rate, define a function to minimize the negative Sharpe ratio, and set constraints and bounds for the optimization process.\n"
      ],
      "metadata": {
        "id": "Jq4cV76QPF-0"
      }
    },
    {
      "cell_type": "markdown",
      "source": [
        "Set Risk-free rate"
      ],
      "metadata": {
        "id": "-7FbBmVDPisT"
      }
    },
    {
      "cell_type": "code",
      "source": [
        "risk_free_rate = 0.03"
      ],
      "metadata": {
        "id": "__yWDYUfNoBr"
      },
      "execution_count": 27,
      "outputs": []
    },
    {
      "cell_type": "markdown",
      "source": [
        "Function to minimize the negative Sharpe ratio"
      ],
      "metadata": {
        "id": "2pR9QOmySlva"
      }
    },
    {
      "cell_type": "code",
      "source": [
        "\n",
        "def neg_sharpe_ratio(weights, log_returns, cov_matrix, risk_free_rate):\n",
        "    return -sharpe_ratio(weights, log_returns, cov_matrix, risk_free_rate)\n"
      ],
      "metadata": {
        "id": "figJlkOYSuRj"
      },
      "execution_count": 29,
      "outputs": []
    },
    {
      "cell_type": "markdown",
      "source": [
        "Set constraints and bounds for the optimization process."
      ],
      "metadata": {
        "id": "X0ptSkLeTYUK"
      }
    },
    {
      "cell_type": "code",
      "source": [
        "constraints = {'type': 'eq', 'fun': lambda weights: np.sum(weights) - 1}\n",
        "bounds = [(0, 0.4) for _ in range(len(tickers))]      #This line says the min (0%) and max (40%) weight an asset can represent. Can be changed\n",
        "\n",
        "# Inicial WEIGHTS\n",
        "initial_weights = np.array([1/len(tickers)]*len(tickers))\n",
        "print(initial_weights)"
      ],
      "metadata": {
        "colab": {
          "base_uri": "https://localhost:8080/"
        },
        "id": "3arvPfbxTZvI",
        "outputId": "fffc187b-2ac4-42e6-b56e-9392de04cc21"
      },
      "execution_count": 30,
      "outputs": [
        {
          "output_type": "stream",
          "name": "stdout",
          "text": [
            "[0.2 0.2 0.2 0.2 0.2]\n"
          ]
        }
      ]
    },
    {
      "cell_type": "markdown",
      "source": [
        "**Optimize weights to maiximize Sharpe**\n",
        "\n",
        "Using SLSQP (Sequencial Squares Quadratic Programming) which is a numerical optimization technique suitable for solving nonlinear optimization problems with constrains. Similar to the nonlinear method in Solver (Excel)\n",
        "\n",
        "- key parameter is the one we`re trying to optimize(max): neg_sharpe_ratio"
      ],
      "metadata": {
        "id": "lKSM337REH49"
      }
    },
    {
      "cell_type": "code",
      "source": [
        "optimized_results = minimize(neg_sharpe_ratio, initial_weights, args=(log_returns, cov_matrix, risk_free_rate), method='SLSQP', constraints=constraints, bounds=bounds)\n",
        "print(optimized_results)"
      ],
      "metadata": {
        "colab": {
          "base_uri": "https://localhost:8080/"
        },
        "id": "ycXyf6LRE6hv",
        "outputId": "ade5f0d4-79ab-47d0-fc41-f94df587902e"
      },
      "execution_count": 31,
      "outputs": [
        {
          "output_type": "stream",
          "name": "stdout",
          "text": [
            " message: Optimization terminated successfully\n",
            " success: True\n",
            "  status: 0\n",
            "     fun: -0.8734992001306213\n",
            "       x: [ 1.713e-01  0.000e+00  2.867e-02  4.000e-01  4.000e-01]\n",
            "     nit: 4\n",
            "     jac: [ 9.684e-02  1.292e+00  9.730e-02 -1.470e-01 -3.041e-01]\n",
            "    nfev: 24\n",
            "    njev: 4\n"
          ]
        }
      ]
    },
    {
      "cell_type": "markdown",
      "source": [
        "\n",
        "## Section 7: Analyze the Optimal Portfolio\n",
        "\n",
        "We obtain the optimal weights and calculate the **Expected Annual Return**, **Expected Volatility**, and **Sharpe Ratio** for the optimal portfolio.\n"
      ],
      "metadata": {
        "id": "WHmYM3NQHkcj"
      }
    },
    {
      "cell_type": "code",
      "source": [
        "optimal_weights = optimized_results.x\n",
        "\n",
        "print(\"Optimal Weights:\")\n",
        "for ticker, weight in zip(tickers, optimal_weights):\n",
        "    print(f\"{ticker}: {weight:.4f}\")\n",
        "\n",
        "optimal_portfolio_return = expected_return(optimal_weights, log_returns)\n",
        "optimal_portfolio_volatility = standard_deviation(optimal_weights, cov_matrix)\n",
        "optimal_sharpe_ratio = sharpe_ratio(optimal_weights, log_returns, cov_matrix, risk_free_rate)\n",
        "\n",
        "print(f\"Expected Annual Return: {optimal_portfolio_return:.4f}\")\n",
        "print(f\"Expected Volatility: {optimal_portfolio_volatility:.4f}\")\n",
        "print(f\"Sharpe Ratio: {optimal_sharpe_ratio:.4f}\")"
      ],
      "metadata": {
        "colab": {
          "base_uri": "https://localhost:8080/"
        },
        "id": "10eozf3HGD_a",
        "outputId": "f20f846b-d03c-46d5-c19d-dbf05bff80d4"
      },
      "execution_count": 32,
      "outputs": [
        {
          "output_type": "stream",
          "name": "stdout",
          "text": [
            "Optimal Weights:\n",
            "AAPL: 0.1713\n",
            "TSLA: 0.0000\n",
            "JNJ: 0.0287\n",
            "BRK-B: 0.4000\n",
            "XOM: 0.4000\n",
            "Expected Annual Return: 0.1927\n",
            "Expected Volatility: 0.1863\n",
            "Sharpe Ratio: 0.8735\n"
          ]
        }
      ]
    },
    {
      "cell_type": "markdown",
      "source": [
        "\n",
        "**Plot: Final Portfolio**\n",
        "\n",
        "Bar chart to visualize the optimal weights of the assets in the portfolio.\n"
      ],
      "metadata": {
        "id": "AJjtbMPDIlSl"
      }
    },
    {
      "cell_type": "code",
      "source": [
        "plt.figure(figsize=(10, 6))\n",
        "plt.bar(tickers, optimal_weights)\n",
        "\n",
        "plt.xlabel('Assets')\n",
        "plt.ylabel('Optimal Weights')\n",
        "plt.title('Optimal Portfolio Weights')\n",
        "\n",
        "plt.show()"
      ],
      "metadata": {
        "colab": {
          "base_uri": "https://localhost:8080/",
          "height": 564
        },
        "id": "XdBxKJqZIqpB",
        "outputId": "db5f6203-c652-46c3-e6d4-ba90548b3752"
      },
      "execution_count": 33,
      "outputs": [
        {
          "output_type": "display_data",
          "data": {
            "text/plain": [
              "<Figure size 1000x600 with 1 Axes>"
            ],
            "image/png": "[encoded data removed]"
          },
          "metadata": {}
        }
      ]
    }
  ]
}