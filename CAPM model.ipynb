{
  "cells": [
    {
      "cell_type": "markdown",
      "metadata": {
        "id": "yBXXcWiA-XWB"
      },
      "source": [
        "Capital Asset Pricing Model (CAPM)"
      ]
    },
    {
      "cell_type": "code",
      "execution_count": 1,
      "metadata": {
        "id": "h1bTuG5O-YF_"
      },
      "outputs": [],
      "source": [
        "import numpy as np"
      ]
    },
    {
      "cell_type": "code",
      "execution_count": 1,
      "metadata": {
        "id": "gKAoaS2h-aIJ"
      },
      "outputs": [],
      "source": [
        "# Define a function for calculate CAPM (ER = Rf + B(Rm - Rf))\n",
        "def capm(rf, beta, rm):\n",
        "  return rf + beta * (rm - rf)"
      ]
    },
    {
      "cell_type": "code",
      "execution_count": 2,
      "metadata": {
        "id": "GvsOwE0z-lOg"
      },
      "outputs": [],
      "source": [
        "#Data\n",
        "rf = 0.05 #risk free rate\n",
        "beta = 1.5 #Beta del security\n",
        "rm = 0.12 #Market return\n"
      ]
    },
    {
      "cell_type": "code",
      "execution_count": 5,
      "metadata": {
        "colab": {
          "base_uri": "https://localhost:8080/"
        },
        "id": "GE4w21rN-0vV",
        "outputId": "407b12a2-9b0f-4c06-ebc0-9253bd5272a0"
      },
      "outputs": [
        {
          "name": "stdout",
          "output_type": "stream",
          "text": [
            "CAPM:  0.15499999999999997\n"
          ]
        }
      ],
      "source": [
        "#Calculate expected return, CAPM\n",
        "expected_return = capm(rf, beta, rm)\n",
        "print(\"CAPM: \", expected_return)"
      ]
    },
    {
      "cell_type": "markdown",
      "metadata": {},
      "source": [
        "Another example:"
      ]
    },
    {
      "cell_type": "code",
      "execution_count": 7,
      "metadata": {
        "id": "AOl1UuwI_Dai"
      },
      "outputs": [
        {
          "name": "stdout",
          "output_type": "stream",
          "text": [
            "Expected return (%):  13.4\n"
          ]
        }
      ],
      "source": [
        "def capm_finaccss(rf_1, beta_1, rm_1):\n",
        "    return rf_1 + beta_1 * (rm_1 - rf_1)\n",
        "\n",
        "rf_1 = 0.11\n",
        "beta_1 = 1.2\n",
        "rm_1 = 0.13\n",
        "\n",
        "expected_return_1 = capm_finaccss(rf_1, beta_1, rm_1)\n",
        "print(\"Expected return (%): \", expected_return_1*100)"
      ]
    },
    {
      "cell_type": "code",
      "execution_count": null,
      "metadata": {},
      "outputs": [],
      "source": []
    }
  ],
  "metadata": {
    "colab": {
      "provenance": []
    },
    "kernelspec": {
      "display_name": "Python 3.10.6 64-bit",
      "language": "python",
      "name": "python3"
    },
    "language_info": {
      "codemirror_mode": {
        "name": "ipython",
        "version": 3
      },
      "file_extension": ".py",
      "mimetype": "text/x-python",
      "name": "python",
      "nbconvert_exporter": "python",
      "pygments_lexer": "ipython3",
      "version": "3.10.6"
    },
    "vscode": {
      "interpreter": {
        "hash": "aee8b7b246df8f9039afb4144a1f6fd8d2ca17a180786b69acc140d282b71a49"
      }
    }
  },
  "nbformat": 4,
  "nbformat_minor": 0
}
