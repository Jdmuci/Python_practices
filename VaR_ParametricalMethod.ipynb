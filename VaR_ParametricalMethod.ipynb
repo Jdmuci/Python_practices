{
  "nbformat": 4,
  "nbformat_minor": 0,
  "metadata": {
    "colab": {
      "provenance": []
    },
    "kernelspec": {
      "name": "python3",
      "display_name": "Python 3"
    },
    "language_info": {
      "name": "python"
    }
  },
  "cells": [
    {
      "cell_type": "markdown",
      "source": [
        "## VaR Parametrical\n",
        "\n",
        "We will use yfinance library to download historical stock price data. Remember we can use also an Excel or csv file to get data.\n",
        "\n",
        "In this practice exercise we consider an equally weighted portfolio (it can be changed)."
      ],
      "metadata": {
        "id": "ALAV5Hhd9SzM"
      }
    },
    {
      "cell_type": "code",
      "source": [
        "# Libraries:\n",
        "import numpy as np\n",
        "import pandas as pd\n",
        "import datetime as dt\n",
        "import yfinance as yf\n",
        "import matplotlib.pyplot as plt\n",
        "from scipy.stats import norm"
      ],
      "metadata": {
        "id": "W9-RUQnu7WX1"
      },
      "execution_count": 1,
      "outputs": []
    },
    {
      "cell_type": "markdown",
      "source": [
        "1 -  Set time range.\n",
        " - This is optional, we can set a specific time range here or in the data download code."
      ],
      "metadata": {
        "id": "KXSWdzUK7iDc"
      }
    },
    {
      "cell_type": "code",
      "source": [
        "years = 3\n",
        "\n",
        "endDate = dt.datetime.now()\n",
        "startDate = endDate - dt.timedelta(days=365*years)"
      ],
      "metadata": {
        "id": "tSFJSW4b7fci"
      },
      "execution_count": 2,
      "outputs": []
    },
    {
      "cell_type": "markdown",
      "source": [
        "2 - Create a list of tickers"
      ],
      "metadata": {
        "id": "8a6TXvoo9Qxq"
      }
    },
    {
      "cell_type": "code",
      "source": [
        "tickers = [\"OR.PA\",\"XOM\",\"BRK-B\",\"GOOG\",\"PFE\"]"
      ],
      "metadata": {
        "id": "-8SknMS49RuN"
      },
      "execution_count": 3,
      "outputs": []
    },
    {
      "cell_type": "markdown",
      "source": [
        "3 - Set the Weights (equally weighted portfolio). And the Portfolio Value ($1,000,000)"
      ],
      "metadata": {
        "id": "qQdPdYnR8xKE"
      }
    },
    {
      "cell_type": "code",
      "source": [
        "portfolio_value = 1000000\n",
        "\n",
        "# weights = np.array([0.25, 0.25, 0.2, 0.15, 0.15 ])  Code for a non-equally weighted portfolio\n",
        "weights = np.array([1/len(tickers)]*len(tickers))\n",
        "print(weights)"
      ],
      "metadata": {
        "colab": {
          "base_uri": "https://localhost:8080/"
        },
        "id": "kDMlj3qv8vyU",
        "outputId": "fc610fda-0e02-4909-ea29-fa2bfbc99664"
      },
      "execution_count": 4,
      "outputs": [
        {
          "output_type": "stream",
          "name": "stdout",
          "text": [
            "[0.2 0.2 0.2 0.2 0.2]\n"
          ]
        }
      ]
    },
    {
      "cell_type": "markdown",
      "source": [
        "4 - Download daily adjusted close price for the tickers\n",
        "\n",
        "- We use AdjClosePrices instead of ClosePrice due to the dividend and split adjustments."
      ],
      "metadata": {
        "id": "kdNfm-OM9yi4"
      }
    },
    {
      "cell_type": "code",
      "source": [
        "#close_df = yf.download(tickers, start=\"2020-11-01\", end=\"2023-11-05\")[\"Close\"]   #We can set a specific time range here\n",
        "adj_close_df = yf.download(tickers, start=startDate, end=endDate)[\"Adj Close\"]\n",
        "adj_close_df.head()"
      ],
      "metadata": {
        "colab": {
          "base_uri": "https://localhost:8080/",
          "height": 256
        },
        "id": "u_Gk-IZ79zhU",
        "outputId": "1ef4af35-2b76-4edc-d036-7c8b7f0eb5f4"
      },
      "execution_count": 5,
      "outputs": [
        {
          "output_type": "stream",
          "name": "stderr",
          "text": [
            "[*********************100%%**********************]  5 of 5 completed\n"
          ]
        },
        {
          "output_type": "execute_result",
          "data": {
            "text/plain": [
              "                 BRK-B       GOOG       OR.PA        PFE        XOM\n",
              "Date                                                               \n",
              "2021-01-20         NaN        NaN  282.085938        NaN        NaN\n",
              "2021-01-21  234.160004  94.562500  283.046722  32.526329  42.154427\n",
              "2021-01-22  232.919998  95.052498  284.680023  32.588734  41.558609\n",
              "2021-01-25  233.009995  94.970001  287.274170  33.239620  41.094219\n",
              "2021-01-26  231.570007  95.862000  289.964325  33.266373  40.191723"
            ],
            "text/html": [
              "\n",
              "  <div id=\"df-df9fa18c-5f65-417e-9dde-8e8510996a34\" class=\"colab-df-container\">\n",
              "    <div>\n",
              "<style scoped>\n",
              "    .dataframe tbody tr th:only-of-type {\n",
              "        vertical-align: middle;\n",
              "    }\n",
              "\n",
              "    .dataframe tbody tr th {\n",
              "        vertical-align: top;\n",
              "    }\n",
              "\n",
              "    .dataframe thead th {\n",
              "        text-align: right;\n",
              "    }\n",
              "</style>\n",
              "<table border=\"1\" class=\"dataframe\">\n",
              "  <thead>\n",
              "    <tr style=\"text-align: right;\">\n",
              "      <th></th>\n",
              "      <th>BRK-B</th>\n",
              "      <th>GOOG</th>\n",
              "      <th>OR.PA</th>\n",
              "      <th>PFE</th>\n",
              "      <th>XOM</th>\n",
              "    </tr>\n",
              "    <tr>\n",
              "      <th>Date</th>\n",
              "      <th></th>\n",
              "      <th></th>\n",
              "      <th></th>\n",
              "      <th></th>\n",
              "      <th></th>\n",
              "    </tr>\n",
              "  </thead>\n",
              "  <tbody>\n",
              "    <tr>\n",
              "      <th>2021-01-20</th>\n",
              "      <td>NaN</td>\n",
              "      <td>NaN</td>\n",
              "      <td>282.085938</td>\n",
              "      <td>NaN</td>\n",
              "      <td>NaN</td>\n",
              "    </tr>\n",
              "    <tr>\n",
              "      <th>2021-01-21</th>\n",
              "      <td>234.160004</td>\n",
              "      <td>94.562500</td>\n",
              "      <td>283.046722</td>\n",
              "      <td>32.526329</td>\n",
              "      <td>42.154427</td>\n",
              "    </tr>\n",
              "    <tr>\n",
              "      <th>2021-01-22</th>\n",
              "      <td>232.919998</td>\n",
              "      <td>95.052498</td>\n",
              "      <td>284.680023</td>\n",
              "      <td>32.588734</td>\n",
              "      <td>41.558609</td>\n",
              "    </tr>\n",
              "    <tr>\n",
              "      <th>2021-01-25</th>\n",
              "      <td>233.009995</td>\n",
              "      <td>94.970001</td>\n",
              "      <td>287.274170</td>\n",
              "      <td>33.239620</td>\n",
              "      <td>41.094219</td>\n",
              "    </tr>\n",
              "    <tr>\n",
              "      <th>2021-01-26</th>\n",
              "      <td>231.570007</td>\n",
              "      <td>95.862000</td>\n",
              "      <td>289.964325</td>\n",
              "      <td>33.266373</td>\n",
              "      <td>40.191723</td>\n",
              "    </tr>\n",
              "  </tbody>\n",
              "</table>\n",
              "</div>\n",
              "    <div class=\"colab-df-buttons\">\n",
              "\n",
              "  <div class=\"colab-df-container\">\n",
              "    <button class=\"colab-df-convert\" onclick=\"convertToInteractive('df-df9fa18c-5f65-417e-9dde-8e8510996a34')\"\n",
              "            title=\"Convert this dataframe to an interactive table.\"\n",
              "            style=\"display:none;\">\n",
              "\n",
              "  <svg xmlns=\"http://www.w3.org/2000/svg\" height=\"24px\" viewBox=\"0 -960 960 960\">\n",
              "    <path d=\"M120-120v-720h720v720H120Zm60-500h600v-160H180v160Zm220 220h160v-160H400v160Zm0 220h160v-160H400v160ZM180-400h160v-160H180v160Zm440 0h160v-160H620v160ZM180-180h160v-160H180v160Zm440 0h160v-160H620v160Z\"/>\n",
              "  </svg>\n",
              "    </button>\n",
              "\n",
              "  <style>\n",
              "    .colab-df-container {\n",
              "      display:flex;\n",
              "      gap: 12px;\n",
              "    }\n",
              "\n",
              "    .colab-df-convert {\n",
              "      background-color: #E8F0FE;\n",
              "      border: none;\n",
              "      border-radius: 50%;\n",
              "      cursor: pointer;\n",
              "      display: none;\n",
              "      fill: #1967D2;\n",
              "      height: 32px;\n",
              "      padding: 0 0 0 0;\n",
              "      width: 32px;\n",
              "    }\n",
              "\n",
              "    .colab-df-convert:hover {\n",
              "      background-color: #E2EBFA;\n",
              "      box-shadow: 0px 1px 2px rgba(60, 64, 67, 0.3), 0px 1px 3px 1px rgba(60, 64, 67, 0.15);\n",
              "      fill: #174EA6;\n",
              "    }\n",
              "\n",
              "    .colab-df-buttons div {\n",
              "      margin-bottom: 4px;\n",
              "    }\n",
              "\n",
              "    [theme=dark] .colab-df-convert {\n",
              "      background-color: #3B4455;\n",
              "      fill: #D2E3FC;\n",
              "    }\n",
              "\n",
              "    [theme=dark] .colab-df-convert:hover {\n",
              "      background-color: #434B5C;\n",
              "      box-shadow: 0px 1px 3px 1px rgba(0, 0, 0, 0.15);\n",
              "      filter: drop-shadow(0px 1px 2px rgba(0, 0, 0, 0.3));\n",
              "      fill: #FFFFFF;\n",
              "    }\n",
              "  </style>\n",
              "\n",
              "    <script>\n",
              "      const buttonEl =\n",
              "        document.querySelector('#df-df9fa18c-5f65-417e-9dde-8e8510996a34 button.colab-df-convert');\n",
              "      buttonEl.style.display =\n",
              "        google.colab.kernel.accessAllowed ? 'block' : 'none';\n",
              "\n",
              "      async function convertToInteractive(key) {\n",
              "        const element = document.querySelector('#df-df9fa18c-5f65-417e-9dde-8e8510996a34');\n",
              "        const dataTable =\n",
              "          await google.colab.kernel.invokeFunction('convertToInteractive',\n",
              "                                                    [key], {});\n",
              "        if (!dataTable) return;\n",
              "\n",
              "        const docLinkHtml = 'Like what you see? Visit the ' +\n",
              "          '<a target=\"_blank\" href=https://colab.research.google.com/notebooks/data_table.ipynb>data table notebook</a>'\n",
              "          + ' to learn more about interactive tables.';\n",
              "        element.innerHTML = '';\n",
              "        dataTable['output_type'] = 'display_data';\n",
              "        await google.colab.output.renderOutput(dataTable, element);\n",
              "        const docLink = document.createElement('div');\n",
              "        docLink.innerHTML = docLinkHtml;\n",
              "        element.appendChild(docLink);\n",
              "      }\n",
              "    </script>\n",
              "  </div>\n",
              "\n",
              "\n",
              "<div id=\"df-4a4ba75e-6914-431d-88ca-6c2a972b2815\">\n",
              "  <button class=\"colab-df-quickchart\" onclick=\"quickchart('df-4a4ba75e-6914-431d-88ca-6c2a972b2815')\"\n",
              "            title=\"Suggest charts\"\n",
              "            style=\"display:none;\">\n",
              "\n",
              "<svg xmlns=\"http://www.w3.org/2000/svg\" height=\"24px\"viewBox=\"0 0 24 24\"\n",
              "     width=\"24px\">\n",
              "    <g>\n",
              "        <path d=\"M19 3H5c-1.1 0-2 .9-2 2v14c0 1.1.9 2 2 2h14c1.1 0 2-.9 2-2V5c0-1.1-.9-2-2-2zM9 17H7v-7h2v7zm4 0h-2V7h2v10zm4 0h-2v-4h2v4z\"/>\n",
              "    </g>\n",
              "</svg>\n",
              "  </button>\n",
              "\n",
              "<style>\n",
              "  .colab-df-quickchart {\n",
              "      --bg-color: #E8F0FE;\n",
              "      --fill-color: #1967D2;\n",
              "      --hover-bg-color: #E2EBFA;\n",
              "      --hover-fill-color: #174EA6;\n",
              "      --disabled-fill-color: #AAA;\n",
              "      --disabled-bg-color: #DDD;\n",
              "  }\n",
              "\n",
              "  [theme=dark] .colab-df-quickchart {\n",
              "      --bg-color: #3B4455;\n",
              "      --fill-color: #D2E3FC;\n",
              "      --hover-bg-color: #434B5C;\n",
              "      --hover-fill-color: #FFFFFF;\n",
              "      --disabled-bg-color: #3B4455;\n",
              "      --disabled-fill-color: #666;\n",
              "  }\n",
              "\n",
              "  .colab-df-quickchart {\n",
              "    background-color: var(--bg-color);\n",
              "    border: none;\n",
              "    border-radius: 50%;\n",
              "    cursor: pointer;\n",
              "    display: none;\n",
              "    fill: var(--fill-color);\n",
              "    height: 32px;\n",
              "    padding: 0;\n",
              "    width: 32px;\n",
              "  }\n",
              "\n",
              "  .colab-df-quickchart:hover {\n",
              "    background-color: var(--hover-bg-color);\n",
              "    box-shadow: 0 1px 2px rgba(60, 64, 67, 0.3), 0 1px 3px 1px rgba(60, 64, 67, 0.15);\n",
              "    fill: var(--button-hover-fill-color);\n",
              "  }\n",
              "\n",
              "  .colab-df-quickchart-complete:disabled,\n",
              "  .colab-df-quickchart-complete:disabled:hover {\n",
              "    background-color: var(--disabled-bg-color);\n",
              "    fill: var(--disabled-fill-color);\n",
              "    box-shadow: none;\n",
              "  }\n",
              "\n",
              "  .colab-df-spinner {\n",
              "    border: 2px solid var(--fill-color);\n",
              "    border-color: transparent;\n",
              "    border-bottom-color: var(--fill-color);\n",
              "    animation:\n",
              "      spin 1s steps(1) infinite;\n",
              "  }\n",
              "\n",
              "  @keyframes spin {\n",
              "    0% {\n",
              "      border-color: transparent;\n",
              "      border-bottom-color: var(--fill-color);\n",
              "      border-left-color: var(--fill-color);\n",
              "    }\n",
              "    20% {\n",
              "      border-color: transparent;\n",
              "      border-left-color: var(--fill-color);\n",
              "      border-top-color: var(--fill-color);\n",
              "    }\n",
              "    30% {\n",
              "      border-color: transparent;\n",
              "      border-left-color: var(--fill-color);\n",
              "      border-top-color: var(--fill-color);\n",
              "      border-right-color: var(--fill-color);\n",
              "    }\n",
              "    40% {\n",
              "      border-color: transparent;\n",
              "      border-right-color: var(--fill-color);\n",
              "      border-top-color: var(--fill-color);\n",
              "    }\n",
              "    60% {\n",
              "      border-color: transparent;\n",
              "      border-right-color: var(--fill-color);\n",
              "    }\n",
              "    80% {\n",
              "      border-color: transparent;\n",
              "      border-right-color: var(--fill-color);\n",
              "      border-bottom-color: var(--fill-color);\n",
              "    }\n",
              "    90% {\n",
              "      border-color: transparent;\n",
              "      border-bottom-color: var(--fill-color);\n",
              "    }\n",
              "  }\n",
              "</style>\n",
              "\n",
              "  <script>\n",
              "    async function quickchart(key) {\n",
              "      const quickchartButtonEl =\n",
              "        document.querySelector('#' + key + ' button');\n",
              "      quickchartButtonEl.disabled = true;  // To prevent multiple clicks.\n",
              "      quickchartButtonEl.classList.add('colab-df-spinner');\n",
              "      try {\n",
              "        const charts = await google.colab.kernel.invokeFunction(\n",
              "            'suggestCharts', [key], {});\n",
              "      } catch (error) {\n",
              "        console.error('Error during call to suggestCharts:', error);\n",
              "      }\n",
              "      quickchartButtonEl.classList.remove('colab-df-spinner');\n",
              "      quickchartButtonEl.classList.add('colab-df-quickchart-complete');\n",
              "    }\n",
              "    (() => {\n",
              "      let quickchartButtonEl =\n",
              "        document.querySelector('#df-4a4ba75e-6914-431d-88ca-6c2a972b2815 button');\n",
              "      quickchartButtonEl.style.display =\n",
              "        google.colab.kernel.accessAllowed ? 'block' : 'none';\n",
              "    })();\n",
              "  </script>\n",
              "</div>\n",
              "\n",
              "    </div>\n",
              "  </div>\n"
            ]
          },
          "metadata": {},
          "execution_count": 5
        }
      ]
    },
    {
      "cell_type": "markdown",
      "source": [
        "5 - Calculate the daily log returns and drop any N/A value"
      ],
      "metadata": {
        "id": "durOtMdz-WI9"
      }
    },
    {
      "cell_type": "code",
      "source": [
        "log_returns = np.log(adj_close_df / adj_close_df.shift(1))\n",
        "log_returns = log_returns.dropna() #Drop N/A values\n",
        "log_returns.head()"
      ],
      "metadata": {
        "colab": {
          "base_uri": "https://localhost:8080/",
          "height": 238
        },
        "id": "eUXB0T4q-W9m",
        "outputId": "70ffd137-b715-460a-8e51-89a06d817dcd"
      },
      "execution_count": 7,
      "outputs": [
        {
          "output_type": "execute_result",
          "data": {
            "text/plain": [
              "               BRK-B      GOOG     OR.PA       PFE       XOM\n",
              "Date                                                        \n",
              "2021-01-22 -0.005310  0.005168  0.005754  0.001917 -0.014235\n",
              "2021-01-25  0.000386 -0.000868  0.009071  0.019776 -0.011237\n",
              "2021-01-26 -0.006199  0.009349  0.009321  0.000805 -0.022206\n",
              "2021-01-27 -0.018348 -0.046139 -0.014014 -0.029098 -0.011401\n",
              "2021-01-28  0.015667  0.017500 -0.000672  0.000279  0.015535"
            ],
            "text/html": [
              "\n",
              "  <div id=\"df-9704bf3e-63f4-4289-8ba0-deeced0a8087\" class=\"colab-df-container\">\n",
              "    <div>\n",
              "<style scoped>\n",
              "    .dataframe tbody tr th:only-of-type {\n",
              "        vertical-align: middle;\n",
              "    }\n",
              "\n",
              "    .dataframe tbody tr th {\n",
              "        vertical-align: top;\n",
              "    }\n",
              "\n",
              "    .dataframe thead th {\n",
              "        text-align: right;\n",
              "    }\n",
              "</style>\n",
              "<table border=\"1\" class=\"dataframe\">\n",
              "  <thead>\n",
              "    <tr style=\"text-align: right;\">\n",
              "      <th></th>\n",
              "      <th>BRK-B</th>\n",
              "      <th>GOOG</th>\n",
              "      <th>OR.PA</th>\n",
              "      <th>PFE</th>\n",
              "      <th>XOM</th>\n",
              "    </tr>\n",
              "    <tr>\n",
              "      <th>Date</th>\n",
              "      <th></th>\n",
              "      <th></th>\n",
              "      <th></th>\n",
              "      <th></th>\n",
              "      <th></th>\n",
              "    </tr>\n",
              "  </thead>\n",
              "  <tbody>\n",
              "    <tr>\n",
              "      <th>2021-01-22</th>\n",
              "      <td>-0.005310</td>\n",
              "      <td>0.005168</td>\n",
              "      <td>0.005754</td>\n",
              "      <td>0.001917</td>\n",
              "      <td>-0.014235</td>\n",
              "    </tr>\n",
              "    <tr>\n",
              "      <th>2021-01-25</th>\n",
              "      <td>0.000386</td>\n",
              "      <td>-0.000868</td>\n",
              "      <td>0.009071</td>\n",
              "      <td>0.019776</td>\n",
              "      <td>-0.011237</td>\n",
              "    </tr>\n",
              "    <tr>\n",
              "      <th>2021-01-26</th>\n",
              "      <td>-0.006199</td>\n",
              "      <td>0.009349</td>\n",
              "      <td>0.009321</td>\n",
              "      <td>0.000805</td>\n",
              "      <td>-0.022206</td>\n",
              "    </tr>\n",
              "    <tr>\n",
              "      <th>2021-01-27</th>\n",
              "      <td>-0.018348</td>\n",
              "      <td>-0.046139</td>\n",
              "      <td>-0.014014</td>\n",
              "      <td>-0.029098</td>\n",
              "      <td>-0.011401</td>\n",
              "    </tr>\n",
              "    <tr>\n",
              "      <th>2021-01-28</th>\n",
              "      <td>0.015667</td>\n",
              "      <td>0.017500</td>\n",
              "      <td>-0.000672</td>\n",
              "      <td>0.000279</td>\n",
              "      <td>0.015535</td>\n",
              "    </tr>\n",
              "  </tbody>\n",
              "</table>\n",
              "</div>\n",
              "    <div class=\"colab-df-buttons\">\n",
              "\n",
              "  <div class=\"colab-df-container\">\n",
              "    <button class=\"colab-df-convert\" onclick=\"convertToInteractive('df-9704bf3e-63f4-4289-8ba0-deeced0a8087')\"\n",
              "            title=\"Convert this dataframe to an interactive table.\"\n",
              "            style=\"display:none;\">\n",
              "\n",
              "  <svg xmlns=\"http://www.w3.org/2000/svg\" height=\"24px\" viewBox=\"0 -960 960 960\">\n",
              "    <path d=\"M120-120v-720h720v720H120Zm60-500h600v-160H180v160Zm220 220h160v-160H400v160Zm0 220h160v-160H400v160ZM180-400h160v-160H180v160Zm440 0h160v-160H620v160ZM180-180h160v-160H180v160Zm440 0h160v-160H620v160Z\"/>\n",
              "  </svg>\n",
              "    </button>\n",
              "\n",
              "  <style>\n",
              "    .colab-df-container {\n",
              "      display:flex;\n",
              "      gap: 12px;\n",
              "    }\n",
              "\n",
              "    .colab-df-convert {\n",
              "      background-color: #E8F0FE;\n",
              "      border: none;\n",
              "      border-radius: 50%;\n",
              "      cursor: pointer;\n",
              "      display: none;\n",
              "      fill: #1967D2;\n",
              "      height: 32px;\n",
              "      padding: 0 0 0 0;\n",
              "      width: 32px;\n",
              "    }\n",
              "\n",
              "    .colab-df-convert:hover {\n",
              "      background-color: #E2EBFA;\n",
              "      box-shadow: 0px 1px 2px rgba(60, 64, 67, 0.3), 0px 1px 3px 1px rgba(60, 64, 67, 0.15);\n",
              "      fill: #174EA6;\n",
              "    }\n",
              "\n",
              "    .colab-df-buttons div {\n",
              "      margin-bottom: 4px;\n",
              "    }\n",
              "\n",
              "    [theme=dark] .colab-df-convert {\n",
              "      background-color: #3B4455;\n",
              "      fill: #D2E3FC;\n",
              "    }\n",
              "\n",
              "    [theme=dark] .colab-df-convert:hover {\n",
              "      background-color: #434B5C;\n",
              "      box-shadow: 0px 1px 3px 1px rgba(0, 0, 0, 0.15);\n",
              "      filter: drop-shadow(0px 1px 2px rgba(0, 0, 0, 0.3));\n",
              "      fill: #FFFFFF;\n",
              "    }\n",
              "  </style>\n",
              "\n",
              "    <script>\n",
              "      const buttonEl =\n",
              "        document.querySelector('#df-9704bf3e-63f4-4289-8ba0-deeced0a8087 button.colab-df-convert');\n",
              "      buttonEl.style.display =\n",
              "        google.colab.kernel.accessAllowed ? 'block' : 'none';\n",
              "\n",
              "      async function convertToInteractive(key) {\n",
              "        const element = document.querySelector('#df-9704bf3e-63f4-4289-8ba0-deeced0a8087');\n",
              "        const dataTable =\n",
              "          await google.colab.kernel.invokeFunction('convertToInteractive',\n",
              "                                                    [key], {});\n",
              "        if (!dataTable) return;\n",
              "\n",
              "        const docLinkHtml = 'Like what you see? Visit the ' +\n",
              "          '<a target=\"_blank\" href=https://colab.research.google.com/notebooks/data_table.ipynb>data table notebook</a>'\n",
              "          + ' to learn more about interactive tables.';\n",
              "        element.innerHTML = '';\n",
              "        dataTable['output_type'] = 'display_data';\n",
              "        await google.colab.output.renderOutput(dataTable, element);\n",
              "        const docLink = document.createElement('div');\n",
              "        docLink.innerHTML = docLinkHtml;\n",
              "        element.appendChild(docLink);\n",
              "      }\n",
              "    </script>\n",
              "  </div>\n",
              "\n",
              "\n",
              "<div id=\"df-9c0895ee-36eb-4846-8cfe-f9decd1251a4\">\n",
              "  <button class=\"colab-df-quickchart\" onclick=\"quickchart('df-9c0895ee-36eb-4846-8cfe-f9decd1251a4')\"\n",
              "            title=\"Suggest charts\"\n",
              "            style=\"display:none;\">\n",
              "\n",
              "<svg xmlns=\"http://www.w3.org/2000/svg\" height=\"24px\"viewBox=\"0 0 24 24\"\n",
              "     width=\"24px\">\n",
              "    <g>\n",
              "        <path d=\"M19 3H5c-1.1 0-2 .9-2 2v14c0 1.1.9 2 2 2h14c1.1 0 2-.9 2-2V5c0-1.1-.9-2-2-2zM9 17H7v-7h2v7zm4 0h-2V7h2v10zm4 0h-2v-4h2v4z\"/>\n",
              "    </g>\n",
              "</svg>\n",
              "  </button>\n",
              "\n",
              "<style>\n",
              "  .colab-df-quickchart {\n",
              "      --bg-color: #E8F0FE;\n",
              "      --fill-color: #1967D2;\n",
              "      --hover-bg-color: #E2EBFA;\n",
              "      --hover-fill-color: #174EA6;\n",
              "      --disabled-fill-color: #AAA;\n",
              "      --disabled-bg-color: #DDD;\n",
              "  }\n",
              "\n",
              "  [theme=dark] .colab-df-quickchart {\n",
              "      --bg-color: #3B4455;\n",
              "      --fill-color: #D2E3FC;\n",
              "      --hover-bg-color: #434B5C;\n",
              "      --hover-fill-color: #FFFFFF;\n",
              "      --disabled-bg-color: #3B4455;\n",
              "      --disabled-fill-color: #666;\n",
              "  }\n",
              "\n",
              "  .colab-df-quickchart {\n",
              "    background-color: var(--bg-color);\n",
              "    border: none;\n",
              "    border-radius: 50%;\n",
              "    cursor: pointer;\n",
              "    display: none;\n",
              "    fill: var(--fill-color);\n",
              "    height: 32px;\n",
              "    padding: 0;\n",
              "    width: 32px;\n",
              "  }\n",
              "\n",
              "  .colab-df-quickchart:hover {\n",
              "    background-color: var(--hover-bg-color);\n",
              "    box-shadow: 0 1px 2px rgba(60, 64, 67, 0.3), 0 1px 3px 1px rgba(60, 64, 67, 0.15);\n",
              "    fill: var(--button-hover-fill-color);\n",
              "  }\n",
              "\n",
              "  .colab-df-quickchart-complete:disabled,\n",
              "  .colab-df-quickchart-complete:disabled:hover {\n",
              "    background-color: var(--disabled-bg-color);\n",
              "    fill: var(--disabled-fill-color);\n",
              "    box-shadow: none;\n",
              "  }\n",
              "\n",
              "  .colab-df-spinner {\n",
              "    border: 2px solid var(--fill-color);\n",
              "    border-color: transparent;\n",
              "    border-bottom-color: var(--fill-color);\n",
              "    animation:\n",
              "      spin 1s steps(1) infinite;\n",
              "  }\n",
              "\n",
              "  @keyframes spin {\n",
              "    0% {\n",
              "      border-color: transparent;\n",
              "      border-bottom-color: var(--fill-color);\n",
              "      border-left-color: var(--fill-color);\n",
              "    }\n",
              "    20% {\n",
              "      border-color: transparent;\n",
              "      border-left-color: var(--fill-color);\n",
              "      border-top-color: var(--fill-color);\n",
              "    }\n",
              "    30% {\n",
              "      border-color: transparent;\n",
              "      border-left-color: var(--fill-color);\n",
              "      border-top-color: var(--fill-color);\n",
              "      border-right-color: var(--fill-color);\n",
              "    }\n",
              "    40% {\n",
              "      border-color: transparent;\n",
              "      border-right-color: var(--fill-color);\n",
              "      border-top-color: var(--fill-color);\n",
              "    }\n",
              "    60% {\n",
              "      border-color: transparent;\n",
              "      border-right-color: var(--fill-color);\n",
              "    }\n",
              "    80% {\n",
              "      border-color: transparent;\n",
              "      border-right-color: var(--fill-color);\n",
              "      border-bottom-color: var(--fill-color);\n",
              "    }\n",
              "    90% {\n",
              "      border-color: transparent;\n",
              "      border-bottom-color: var(--fill-color);\n",
              "    }\n",
              "  }\n",
              "</style>\n",
              "\n",
              "  <script>\n",
              "    async function quickchart(key) {\n",
              "      const quickchartButtonEl =\n",
              "        document.querySelector('#' + key + ' button');\n",
              "      quickchartButtonEl.disabled = true;  // To prevent multiple clicks.\n",
              "      quickchartButtonEl.classList.add('colab-df-spinner');\n",
              "      try {\n",
              "        const charts = await google.colab.kernel.invokeFunction(\n",
              "            'suggestCharts', [key], {});\n",
              "      } catch (error) {\n",
              "        console.error('Error during call to suggestCharts:', error);\n",
              "      }\n",
              "      quickchartButtonEl.classList.remove('colab-df-spinner');\n",
              "      quickchartButtonEl.classList.add('colab-df-quickchart-complete');\n",
              "    }\n",
              "    (() => {\n",
              "      let quickchartButtonEl =\n",
              "        document.querySelector('#df-9c0895ee-36eb-4846-8cfe-f9decd1251a4 button');\n",
              "      quickchartButtonEl.style.display =\n",
              "        google.colab.kernel.accessAllowed ? 'block' : 'none';\n",
              "    })();\n",
              "  </script>\n",
              "</div>\n",
              "\n",
              "    </div>\n",
              "  </div>\n"
            ]
          },
          "metadata": {},
          "execution_count": 7
        }
      ]
    },
    {
      "cell_type": "markdown",
      "source": [
        "6 - Calculating Historical Portfolio Returns\n",
        "\n",
        "- Sum(Returns * weight)  of every stock"
      ],
      "metadata": {
        "id": "rA9-dSOm_B0K"
      }
    },
    {
      "cell_type": "code",
      "source": [
        "historical_returns = (log_returns * weights).sum(axis =1)\n",
        "print(historical_returns.head())"
      ],
      "metadata": {
        "colab": {
          "base_uri": "https://localhost:8080/"
        },
        "id": "3tcCqVkA_CmC",
        "outputId": "f7fa269b-7510-412c-e10e-f1fe1cadc76d"
      },
      "execution_count": 8,
      "outputs": [
        {
          "output_type": "stream",
          "name": "stdout",
          "text": [
            "Date\n",
            "2021-01-22   -0.001341\n",
            "2021-01-25    0.003426\n",
            "2021-01-26   -0.001786\n",
            "2021-01-27   -0.023800\n",
            "2021-01-28    0.009661\n",
            "dtype: float64\n"
          ]
        }
      ]
    },
    {
      "cell_type": "markdown",
      "source": [
        "7 - Finding N-Day Historical Returns (Sum of returns for a specific number/range of days N)"
      ],
      "metadata": {
        "id": "Hpodj9IQ_iPd"
      }
    },
    {
      "cell_type": "code",
      "source": [
        "days = 5\n",
        "\n",
        "historical_n_day_returns = historical_returns.rolling(window=days).sum()\n",
        "historical_n_day_returns = historical_n_day_returns.dropna() #Drop N/A values\n",
        "print(historical_n_day_returns)"
      ],
      "metadata": {
        "colab": {
          "base_uri": "https://localhost:8080/"
        },
        "id": "X11EhVvj_zgl",
        "outputId": "b1780bef-53ee-4729-ed91-86751781f12d"
      },
      "execution_count": 13,
      "outputs": [
        {
          "output_type": "stream",
          "name": "stdout",
          "text": [
            "Date\n",
            "2021-01-28   -0.013840\n",
            "2021-01-29   -0.028261\n",
            "2021-02-01   -0.019231\n",
            "2021-02-02   -0.012345\n",
            "2021-02-03    0.031258\n",
            "                ...   \n",
            "2024-01-11   -0.002369\n",
            "2024-01-12    0.003134\n",
            "2024-01-17   -0.008710\n",
            "2024-01-18   -0.002335\n",
            "2024-01-19    0.008645\n",
            "Length: 713, dtype: float64\n"
          ]
        }
      ]
    },
    {
      "cell_type": "markdown",
      "source": [
        "8 - Covariance Matrix and Calculate Portfolio Standar Deviation"
      ],
      "metadata": {
        "id": "mrXNGd4uAolq"
      }
    },
    {
      "cell_type": "code",
      "source": [
        "cov_matrix = log_returns.cov() * 252   #For 1 year (252 business days)\n",
        "print(cov_matrix)\n",
        "\n",
        "portfolio_std_dev = np.sqrt(weights.T @ cov_matrix @ weights)\n",
        "print(\"Portfolio STD DEV: \",portfolio_std_dev)"
      ],
      "metadata": {
        "colab": {
          "base_uri": "https://localhost:8080/"
        },
        "id": "cZ5KmblaAx40",
        "outputId": "f429e83a-2e2e-45ed-ef0d-493341d89ed4"
      },
      "execution_count": 14,
      "outputs": [
        {
          "output_type": "stream",
          "name": "stdout",
          "text": [
            "          BRK-B      GOOG     OR.PA       PFE       XOM\n",
            "BRK-B  0.031285  0.025661  0.010903  0.014509  0.023228\n",
            "GOOG   0.025661  0.100628  0.019374  0.012400  0.013340\n",
            "OR.PA  0.010903  0.019374  0.054911  0.007690  0.002221\n",
            "PFE    0.014509  0.012400  0.007690  0.064685  0.008411\n",
            "XOM    0.023228  0.013340  0.002221  0.008411  0.087199\n",
            "Portfolio STD DEV:  0.15673932569119078\n"
          ]
        }
      ]
    },
    {
      "cell_type": "markdown",
      "source": [
        "### Calculating VaR (Parametrical method)\n",
        "\n",
        "Lets use different confidence levels (90%, 95% and 99%) and calculate the Value at Risk (VaR)\n",
        "\n",
        "- Rememeber the higher we set our confidence interval & days; the greater our VaR is"
      ],
      "metadata": {
        "id": "5eQmkNxGF_pN"
      }
    },
    {
      "cell_type": "code",
      "source": [
        "confidence_levels = [0.90, 0.95, 0.99]\n",
        "\n",
        "VaRs = []\n",
        "for cl in confidence_levels:\n",
        "    VaR = portfolio_value * portfolio_std_dev * norm.ppf(cl) * np.sqrt(days / 252)\n",
        "    VaRs.append(VaR)\n",
        "\n",
        "print(\"VaR for each CL: \",VaRs)\n",
        "\n",
        "# Print VaR Results con formato bonito\n",
        "print('-' * 40)\n",
        "print(f'{\"Confidence Level\":<20} {\"Value at Risk\":<20}')\n",
        "print('-' * 40)\n",
        "\n",
        "for cl, VaR in zip(confidence_levels, VaRs):\n",
        "    print(f'{cl * 100:>6.0f}%: {\"\":<8} ${VaR:>10,.2f}')"
      ],
      "metadata": {
        "colab": {
          "base_uri": "https://localhost:8080/"
        },
        "id": "9wCvheFUGW2x",
        "outputId": "c022690e-e6f0-40f6-d54e-80294a05c30d"
      },
      "execution_count": 15,
      "outputs": [
        {
          "output_type": "stream",
          "name": "stdout",
          "text": [
            "VaR for each CL:  [28294.289403681887, 36315.32729460123, 51361.46041363555]\n",
            "----------------------------------------\n",
            "Confidence Level     Value at Risk       \n",
            "----------------------------------------\n",
            "    90%:          $ 28,294.29\n",
            "    95%:          $ 36,315.33\n",
            "    99%:          $ 51,361.46\n"
          ]
        }
      ]
    },
    {
      "cell_type": "code",
      "source": [
        "# Plot the Distribution of Portfolio Returns and Parametric VaR Estimates\n",
        "# we will plot the distribution of the X-day portfolio returns and the parametric VaR estimates:\n",
        "\n",
        "# Convert returns to dollar values for the histogram\n",
        "historical_n_day_returns_dollar = historical_n_day_returns * portfolio_value\n",
        "\n",
        "# Plot the histogram\n",
        "plt.hist(historical_n_day_returns_dollar, bins=50, density=True, alpha=0.5, label=f'{days}-Day Returns')\n",
        "\n",
        "# Add vertical lines representing VaR at each confidence level\n",
        "for cl, VaR in zip(confidence_levels, VaRs):\n",
        "    plt.axvline(x=-VaR, linestyle='--', color='r', label='VaR at {}% Confidence'.format(int(cl * 100)))\n",
        "\n",
        "plt.xlabel(f'{days}-Day Portfolio Return ($)')\n",
        "plt.ylabel('Frequency')\n",
        "plt.title(f'Distribution of Portfolio {days}-Day Returns and Parametric VaR Estimates')\n",
        "plt.legend()\n",
        "plt.show()"
      ],
      "metadata": {
        "colab": {
          "base_uri": "https://localhost:8080/",
          "height": 487
        },
        "id": "6k3XAhNCJXRg",
        "outputId": "3e520a9f-c012-4748-c05f-ba72dc5cee45"
      },
      "execution_count": 17,
      "outputs": [
        {
          "output_type": "display_data",
          "data": {
            "text/plain": [
              "<Figure size 640x480 with 1 Axes>"
            ],
            "image/png": "[encoded data removed]"
          },
          "metadata": {}
        }
      ]
    }
  ]
}